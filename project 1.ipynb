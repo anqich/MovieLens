{
 "cells": [
  {
   "cell_type": "markdown",
   "metadata": {},
   "source": [
    "# Group member: Anqi Chen anqich@seas.upenn.edu and Xuhang Chen xuhangc@seas.upenn.edu"
   ]
  },
  {
   "cell_type": "markdown",
   "metadata": {},
   "source": [
    "## Q1"
   ]
  },
  {
   "cell_type": "code",
   "execution_count": 1,
   "metadata": {
    "collapsed": true
   },
   "outputs": [],
   "source": [
    "import csv\n",
    "import pandas as pd\n",
    "import numpy as np"
   ]
  },
  {
   "cell_type": "markdown",
   "metadata": {},
   "source": [
    "## Firstly, we read csv file using pandas and get a dataframe a. "
   ]
  },
  {
   "cell_type": "code",
   "execution_count": 6,
   "metadata": {
    "collapsed": true
   },
   "outputs": [],
   "source": [
    "a = pd.read_csv('ratings.csv')"
   ]
  },
  {
   "cell_type": "code",
   "execution_count": 9,
   "metadata": {},
   "outputs": [
    {
     "data": {
      "text/plain": [
       "138493"
      ]
     },
     "execution_count": 9,
     "metadata": {},
     "output_type": "execute_result"
    }
   ],
   "source": [
    "user_max = len(a['userId'].unique())\n",
    "movie_max = len(a['movieId'].unique())"
   ]
  },
  {
   "cell_type": "code",
   "execution_count": 11,
   "metadata": {},
   "outputs": [
    {
     "data": {
      "text/plain": [
       "138493"
      ]
     },
     "execution_count": 11,
     "metadata": {},
     "output_type": "execute_result"
    }
   ],
   "source": [
    "user_max"
   ]
  },
  {
   "cell_type": "code",
   "execution_count": 12,
   "metadata": {},
   "outputs": [
    {
     "data": {
      "text/plain": [
       "26744"
      ]
     },
     "execution_count": 12,
     "metadata": {},
     "output_type": "execute_result"
    }
   ],
   "source": [
    "movie_max"
   ]
  },
  {
   "cell_type": "markdown",
   "metadata": {},
   "source": [
    "## We create a matrix of size 26744*138493 to hold True False table and put rating > 2.5 to the True False table."
   ]
  },
  {
   "cell_type": "code",
   "execution_count": 14,
   "metadata": {
    "collapsed": true
   },
   "outputs": [],
   "source": [
    "import time\n",
    "movie = list(sorted(set(a['movieId'].tolist())))\n",
    "d = {}\n",
    "i = 0\n",
    "for x in movie:\n",
    "    d[x] = i\n",
    "    i+=1\n",
    "m = np.zeros(shape = (26744, user_max),dtype=np.bool)\n",
    "with open('ratings.csv', 'r') as csvfile:\n",
    "    reader = csv.reader(csvfile, delimiter = ',')\n",
    "    next(reader)\n",
    "    for row in reader:\n",
    "        if float(row[2]) > 2.5:\n",
    "            m[d[int(row[1])], int(row[0]) - 1] = True"
   ]
  },
  {
   "cell_type": "code",
   "execution_count": 15,
   "metadata": {},
   "outputs": [
    {
     "data": {
      "text/plain": [
       "array([[False, False,  True, ..., False, False,  True],\n",
       "       [ True, False, False, ..., False, False,  True],\n",
       "       [False,  True, False, ..., False, False, False],\n",
       "       ..., \n",
       "       [False, False, False, ..., False, False, False],\n",
       "       [False, False, False, ..., False, False, False],\n",
       "       [False, False, False, ..., False, False, False]], dtype=bool)"
      ]
     },
     "execution_count": 15,
     "metadata": {},
     "output_type": "execute_result"
    }
   ],
   "source": [
    "m"
   ]
  },
  {
   "cell_type": "markdown",
   "metadata": {},
   "source": [
    "# Q2"
   ]
  },
  {
   "cell_type": "code",
   "execution_count": 16,
   "metadata": {
    "collapsed": true
   },
   "outputs": [],
   "source": [
    "import random\n",
    "import csv\n",
    "import numpy as np"
   ]
  },
  {
   "cell_type": "markdown",
   "metadata": {},
   "source": [
    "## Firstly, we create a list, whose length is the number of user. Then, we create set named 'array' for each user which includes movies that they like."
   ]
  },
  {
   "cell_type": "code",
   "execution_count": 17,
   "metadata": {
    "collapsed": true
   },
   "outputs": [],
   "source": [
    "res = []\n",
    "user_id = user_max\n",
    "array = []\n",
    "for x in range(user_id):\n",
    "    a = []\n",
    "    array.append(a)\n",
    "with open('ratings.csv', 'r') as csvfile:\n",
    "    reader = csv.reader(csvfile, delimiter = ',')\n",
    "    next(reader)\n",
    "    for row in reader:\n",
    "        if float(row[2]) > 2.5:\n",
    "            array[int(row[0]) - 1].append(int(row[1]))"
   ]
  },
  {
   "cell_type": "markdown",
   "metadata": {},
   "source": [
    "## We calculate similarity between liked movie set of each user using Jaccard formula. "
   ]
  },
  {
   "cell_type": "code",
   "execution_count": 28,
   "metadata": {},
   "outputs": [
    {
     "name": "stdout",
     "output_type": "stream",
     "text": [
      "mean is  0.0419436850972\n",
      "number  1  element is  0.5625\n",
      "number  2  element is  0.53125\n",
      "number  3  element is  0.5135135135135135\n",
      "number  4  element is  0.5128205128205128\n",
      "number  5  element is  0.5\n",
      "number  6  element is  0.5\n",
      "number  7  element is  0.5\n",
      "number  8  element is  0.48717948717948717\n",
      "number  9  element is  0.47368421052631576\n",
      "number  10  element is  0.4666666666666667\n"
     ]
    }
   ],
   "source": [
    "for x in range(10000) :\n",
    "    sample = random.sample(range(0, user_id), 2)\n",
    "    array1 = array[sample[0]]\n",
    "    array2 = array[sample[1]]\n",
    "    itersect = len(list(set(array1) & set(array2)))\n",
    "    union = len(list(set(array1) | set(array2)))\n",
    "    res.append(float(itersect)/union)\n",
    "print('mean is ', np.mean(res))\n",
    "res.sort(reverse=True)\n",
    "for x in range(10):\n",
    "    print('number ',x + 1,' element is ', res[x])"
   ]
  },
  {
   "cell_type": "markdown",
   "metadata": {},
   "source": [
    "## We get average similarity to be 0.04277. the 10 largest Jaccard similarity values are shown above."
   ]
  },
  {
   "cell_type": "code",
   "execution_count": 29,
   "metadata": {},
   "outputs": [
    {
     "data": {
      "image/png": "[encoded data removed]",
      "text/plain": [
       "<matplotlib.figure.Figure at 0x2575a7208>"
      ]
     },
     "metadata": {},
     "output_type": "display_data"
    }
   ],
   "source": [
    "import matplotlib.pyplot as plt\n",
    "\n",
    "num_bins = 5\n",
    "plt.xlabel('Similarity')\n",
    "plt.ylabel('Number of occurrence')\n",
    "plt.title(r'Histogram of Similarity')\n",
    "n,bins,patches = plt.hist(res,num_bins,facecolor='blue',alpha=0.5)\n",
    "plt.show()"
   ]
  },
  {
   "cell_type": "markdown",
   "metadata": {},
   "source": [
    "# Q3"
   ]
  },
  {
   "cell_type": "markdown",
   "metadata": {},
   "source": [
    "## We create a list, whose length is the number of user. Then, we create set named 'array' for each user which includes movies that they like."
   ]
  },
  {
   "cell_type": "code",
   "execution_count": 30,
   "metadata": {
    "collapsed": true
   },
   "outputs": [],
   "source": [
    "res = []\n",
    "user_id = 138493\n",
    "m = []\n",
    "for x in range(user_id):\n",
    "    a = []\n",
    "    m.append(a)\n",
    "with open('ratings.csv', 'r') as csvfile:\n",
    "    reader = csv.reader(csvfile, delimiter = ',')\n",
    "    next(reader)\n",
    "    for row in reader:\n",
    "        if float(row[2]) > 2.5:\n",
    "            m[int(row[0]) - 1].append(int(row[1]))"
   ]
  },
  {
   "cell_type": "markdown",
   "metadata": {},
   "source": [
    "## We delete users who don't like any movie and record index into L."
   ]
  },
  {
   "cell_type": "code",
   "execution_count": 34,
   "metadata": {
    "collapsed": true
   },
   "outputs": [],
   "source": [
    "L = []\n",
    "for i in range(len(m)):\n",
    "    if len(m[i]) == 0:\n",
    "        L.append(i)\n",
    "\n",
    "m = np.delete(m, L, 0)"
   ]
  },
  {
   "cell_type": "markdown",
   "metadata": {},
   "source": [
    "## We delete 48 users in total."
   ]
  },
  {
   "cell_type": "code",
   "execution_count": 35,
   "metadata": {},
   "outputs": [
    {
     "data": {
      "text/plain": [
       "138445"
      ]
     },
     "execution_count": 35,
     "metadata": {},
     "output_type": "execute_result"
    }
   ],
   "source": [
    "len(m)"
   ]
  },
  {
   "cell_type": "markdown",
   "metadata": {},
   "source": [
    "# Q4"
   ]
  },
  {
   "cell_type": "markdown",
   "metadata": {},
   "source": [
    "## Apply hash function to user liked movie list and we get hash_val array which hold hash values. Then we get min_hash, minimum value of hash_val array and store it to each user. And we repeatedly apply 1000 random hash functions to them. We add each minimum hash values to hash_list corresponding to each user. And finally we add each user list to signature matrix. Therefore, we get a signature matrix of size 138445*1000."
   ]
  },
  {
   "cell_type": "code",
   "execution_count": 37,
   "metadata": {
    "collapsed": true
   },
   "outputs": [],
   "source": [
    "import time\n",
    "import random\n",
    "t0 = time.time()\n",
    "\n",
    "\n",
    "def signature_matrix(inputL,randomNum,prime):\n",
    "    for i in range(len(inputL)):\n",
    "        inputL[i] = np.asarray(inputL[i])\n",
    "    sig_matrix = []\n",
    "    for user in inputL:\n",
    "        hash_list = []\n",
    "        for j in range(randomNum):\n",
    "            rana = random.randint(1, 8241)\n",
    "            ranb = random.randint(1, 8241)\n",
    "            hash_val = np.remainder((rana*user+ranb),prime)\n",
    "            min_hash = np.amin(hash_val)\n",
    "            hash_list.append(min_hash)\n",
    "        sig_matrix.append(hash_list)\n",
    "    return sig_matrix\n",
    "\n",
    "elapsed = (time.time() - t0)"
   ]
  },
  {
   "cell_type": "code",
   "execution_count": 38,
   "metadata": {
    "collapsed": true
   },
   "outputs": [],
   "source": [
    "t0 = time.time()\n",
    "sig_matrix = signature_matrix(m,1000,8243)\n",
    "elapsed = (time.time() - t0)"
   ]
  },
  {
   "cell_type": "code",
   "execution_count": 39,
   "metadata": {},
   "outputs": [
    {
     "data": {
      "text/plain": [
       "1605.630378961563"
      ]
     },
     "execution_count": 39,
     "metadata": {},
     "output_type": "execute_result"
    }
   ],
   "source": [
    "elapsed"
   ]
  },
  {
   "cell_type": "markdown",
   "metadata": {},
   "source": [
    "## In order to do local sensitivity hash, we would find r and b values in order to achieve maximum hitting probability. In order to maximize Pr(hit) = 1-(1-S^r)^b, and at the same time keep r*b = 1000, we found r = 10, b = 100."
   ]
  },
  {
   "cell_type": "code",
   "execution_count": 41,
   "metadata": {
    "collapsed": true
   },
   "outputs": [],
   "source": [
    "sig = np.transpose(sig_matrix)\n",
    "for i in range(len(sig)):\n",
    "    sig[i] = np.asarray(sig[i],dtype = np.single)"
   ]
  },
  {
   "cell_type": "markdown",
   "metadata": {},
   "source": [
    "## Divide signature_matrix into 100 bands. For each band hash each user column, and get sum hash value. Finally, we get a band_matrix."
   ]
  },
  {
   "cell_type": "code",
   "execution_count": 124,
   "metadata": {
    "collapsed": true
   },
   "outputs": [],
   "source": [
    "def hash_band(r,b,prime,signature_matrix):\n",
    "    band_matrix = []\n",
    "    for j in range(b):\n",
    "        band = sig[(j)*r:(j+1)*r]\n",
    "    #138449#353#2677\n",
    "        rana = random.randint(1, prime)\n",
    "        ranb = random.randint(1, prime)\n",
    "        hash_val = np.remainder((rana*band+ranb),prime)\n",
    "        sum_hash = np.sum(hash_val, axis=0)\n",
    "        band_matrix.append(sum_hash)\n",
    "    return band_matrix"
   ]
  },
  {
   "cell_type": "code",
   "execution_count": 156,
   "metadata": {
    "collapsed": true
   },
   "outputs": [],
   "source": [
    "band_matrix = hash_band(10,100,353,sig)"
   ]
  },
  {
   "cell_type": "markdown",
   "metadata": {},
   "source": [
    "## We create bucket which is dictionary for each band to hold key: movie_id, value: user_id. Since we delete some user_ids, we have a function transform(num) to restore user_id. Since it takes too long to run the whole band_matrix, we choose to iterate one by one band,"
   ]
  },
  {
   "cell_type": "code",
   "execution_count": 170,
   "metadata": {
    "collapsed": true
   },
   "outputs": [],
   "source": [
    "def bucket(band_matrix):\n",
    "    dic = {}\n",
    "    band = band_matrix\n",
    "    for k in range(len(band)):\n",
    "        if band[k] not in dic:\n",
    "            dic[band[k]] = []\n",
    "        dic[band[k]].append(k)\n",
    "    return dic\n",
    "\n",
    "dic = bucket(band_matrix[0])"
   ]
  },
  {
   "cell_type": "markdown",
   "metadata": {},
   "source": [
    "## Jaccard similarity function"
   ]
  },
  {
   "cell_type": "code",
   "execution_count": 171,
   "metadata": {
    "collapsed": true
   },
   "outputs": [],
   "source": [
    "def sim(array1,array2):\n",
    "    itersect = len(list(set(array1) & set(array2)))\n",
    "    union = len(list(set(array1) | set(array2)))\n",
    "    return float(itersect)/union"
   ]
  },
  {
   "cell_type": "code",
   "execution_count": 172,
   "metadata": {},
   "outputs": [
    {
     "name": "stdout",
     "output_type": "stream",
     "text": [
      "8296768\n"
     ]
    }
   ],
   "source": [
    "import itertools as it\n",
    "list1 = []\n",
    "for k,v in dic.items():\n",
    "    if len(v) >= 2:\n",
    "        set1 = it.combinations(v,2)\n",
    "        list1 += set1\n",
    "print(len(list1))"
   ]
  },
  {
   "cell_type": "code",
   "execution_count": null,
   "metadata": {
    "collapsed": true
   },
   "outputs": [],
   "source": [
    "t0 = time.time()\n",
    "import itertools as it\n",
    "s = set()\n",
    "for k,v in dic.items():\n",
    "    if len(v) >= 2:\n",
    "        set1 = it.combinations(v,2)\n",
    "        for elem in set1:\n",
    "            if sim(m[elem[0]], m[elem[1]]) > 0.65:\n",
    "                s.add(elem)  \n",
    "elapsed = (time.time() - t0)"
   ]
  },
  {
   "cell_type": "code",
   "execution_count": 131,
   "metadata": {},
   "outputs": [
    {
     "data": {
      "text/plain": [
       "143"
      ]
     },
     "execution_count": 131,
     "metadata": {},
     "output_type": "execute_result"
    }
   ],
   "source": [
    "s1 = s\n",
    "len(s1)"
   ]
  },
  {
   "cell_type": "code",
   "execution_count": null,
   "metadata": {
    "collapsed": true
   },
   "outputs": [],
   "source": [
    "dic = bucket(band_matrix[1])"
   ]
  },
  {
   "cell_type": "code",
   "execution_count": null,
   "metadata": {
    "collapsed": true
   },
   "outputs": [],
   "source": [
    "import itertools as it\n",
    "list1 = []\n",
    "for k,v in dic.items():\n",
    "    if len(v) >= 2:\n",
    "        set1 = it.combinations(v,2)\n",
    "        list1 += set1\n",
    "print(len(list1))"
   ]
  },
  {
   "cell_type": "code",
   "execution_count": null,
   "metadata": {
    "collapsed": true
   },
   "outputs": [],
   "source": [
    "t0 = time.time()\n",
    "import itertools as it\n",
    "s = set()\n",
    "for k,v in dic.items():\n",
    "    if len(v) >= 2:\n",
    "        set1 = it.combinations(v,2)\n",
    "        for elem in set1:\n",
    "            if sim(m[elem[0]], m[elem[1]]) > 0.65:\n",
    "                s.add(elem)  \n",
    "elapsed = (time.time() - t0)"
   ]
  },
  {
   "cell_type": "code",
   "execution_count": 87,
   "metadata": {},
   "outputs": [
    {
     "data": {
      "text/plain": [
       "130"
      ]
     },
     "execution_count": 87,
     "metadata": {},
     "output_type": "execute_result"
    }
   ],
   "source": [
    "s2 = s\n",
    "len(s2)"
   ]
  },
  {
   "cell_type": "code",
   "execution_count": null,
   "metadata": {
    "collapsed": true
   },
   "outputs": [],
   "source": [
    "dic = bucket(band_matrix[2])"
   ]
  },
  {
   "cell_type": "code",
   "execution_count": null,
   "metadata": {
    "collapsed": true
   },
   "outputs": [],
   "source": [
    "import itertools as it\n",
    "list1 = []\n",
    "for k,v in dic.items():\n",
    "    if len(v) >= 2:\n",
    "        set1 = it.combinations(v,2)\n",
    "        list1 += set1\n",
    "print(len(list1))"
   ]
  },
  {
   "cell_type": "code",
   "execution_count": null,
   "metadata": {
    "collapsed": true
   },
   "outputs": [],
   "source": [
    "t0 = time.time()\n",
    "import itertools as it\n",
    "s = set()\n",
    "for k,v in dic.items():\n",
    "    if len(v) >= 2:\n",
    "        set1 = it.combinations(v,2)\n",
    "        for elem in set1:\n",
    "            if sim(m[elem[0]], m[elem[1]]) > 0.65:\n",
    "                s.add(elem)  \n",
    "elapsed = (time.time() - t0)"
   ]
  },
  {
   "cell_type": "code",
   "execution_count": null,
   "metadata": {
    "collapsed": true
   },
   "outputs": [],
   "source": [
    "s3 = s\n",
    "len(s3)"
   ]
  },
  {
   "cell_type": "markdown",
   "metadata": {},
   "source": [
    "## Transform deleted index to original index."
   ]
  },
  {
   "cell_type": "code",
   "execution_count": 121,
   "metadata": {
    "collapsed": true
   },
   "outputs": [],
   "source": [
    "l = [2975,\n",
    " 5204,\n",
    " 7097,\n",
    " 16982,\n",
    " 18513,\n",
    " 18812,\n",
    " 20500,\n",
    " 20510,\n",
    " 24529,\n",
    " 25293,\n",
    " 29166,\n",
    " 33382,\n",
    " 39470,\n",
    " 40699,\n",
    " 44173,\n",
    " 49013,\n",
    " 54259,\n",
    " 56199,\n",
    " 59004,\n",
    " 59937,\n",
    " 65364,\n",
    " 66752,\n",
    " 67321,\n",
    " 72822,\n",
    " 73478,\n",
    " 74083,\n",
    " 74275,\n",
    " 75235,\n",
    " 75470,\n",
    " 78513,\n",
    " 80489,\n",
    " 81277,\n",
    " 84563,\n",
    " 85668,\n",
    " 87565,\n",
    " 90246,\n",
    " 92500,\n",
    " 98536,\n",
    " 99444,\n",
    " 103629,\n",
    " 106617,\n",
    " 108028,\n",
    " 117729,\n",
    " 119969,\n",
    " 122283,\n",
    " 130606,\n",
    " 131656,\n",
    " 135470]\n",
    "def transform(num):\n",
    "    if num < 2975:\n",
    "        return num\n",
    "    elif num >= 135470:\n",
    "        return num + 48\n",
    "    else:\n",
    "        for i in range(len(l) - 1):\n",
    "            if l[i] <= num < l[i+1]:\n",
    "                return num + i + 1"
   ]
  },
  {
   "cell_type": "code",
   "execution_count": 177,
   "metadata": {
    "collapsed": true
   },
   "outputs": [],
   "source": [
    "l1=[]\n",
    "for x in s1:\n",
    "    elem1 = transform(x[0])\n",
    "    elem2 = transform(x[1])\n",
    "    l1.append((elem1,elem2))"
   ]
  },
  {
   "cell_type": "code",
   "execution_count": 178,
   "metadata": {},
   "outputs": [
    {
     "data": {
      "text/plain": [
       "[(7282, 51389),\n",
       " (49987, 60282),\n",
       " (28700, 88253),\n",
       " (30083, 51389),\n",
       " (42230, 74808),\n",
       " (53675, 56720),\n",
       " (72030, 129065),\n",
       " (73336, 88075),\n",
       " (37943, 93170),\n",
       " (24517, 119381),\n",
       " (90265, 130002),\n",
       " (8067, 111633),\n",
       " (63864, 135076),\n",
       " (66987, 130131),\n",
       " (27914, 131858),\n",
       " (28351, 111633),\n",
       " (10887, 98855),\n",
       " (58510, 94494),\n",
       " (116913, 134907),\n",
       " (52590, 105747),\n",
       " (77329, 137197),\n",
       " (58970, 110759),\n",
       " (112814, 130316),\n",
       " (70125, 98372),\n",
       " (29250, 44790),\n",
       " (31699, 138452),\n",
       " (4681, 34309),\n",
       " (41730, 125196),\n",
       " (32384, 45867),\n",
       " (6657, 8825),\n",
       " (35592, 101569),\n",
       " (27325, 62943),\n",
       " (7547, 85365),\n",
       " (11160, 21559),\n",
       " (79771, 110993),\n",
       " (4880, 106634),\n",
       " (36185, 73905),\n",
       " (38863, 63434),\n",
       " (97812, 98704),\n",
       " (41861, 120288),\n",
       " (71537, 80708),\n",
       " (27114, 96013),\n",
       " (38535, 89958),\n",
       " (31699, 46761),\n",
       " (112663, 117557),\n",
       " (12945, 105572),\n",
       " (11975, 134955),\n",
       " (8241, 124381),\n",
       " (26372, 136839),\n",
       " (33037, 63166),\n",
       " (51777, 96519),\n",
       " (7135, 41730),\n",
       " (67547, 113950),\n",
       " (65618, 85659),\n",
       " (10735, 33331),\n",
       " (34750, 77492),\n",
       " (19192, 127245),\n",
       " (87129, 94787),\n",
       " (43286, 72067),\n",
       " (20801, 103918),\n",
       " (27888, 29250),\n",
       " (62024, 105923),\n",
       " (23146, 75747),\n",
       " (105064, 135358),\n",
       " (40156, 45009),\n",
       " (99621, 129502),\n",
       " (18456, 69445),\n",
       " (6640, 45221),\n",
       " (7392, 82225),\n",
       " (8067, 28351),\n",
       " (42486, 102738),\n",
       " (83451, 105249),\n",
       " (22159, 58826),\n",
       " (22921, 97332),\n",
       " (20938, 115873),\n",
       " (1219, 109993),\n",
       " (15994, 83253),\n",
       " (48685, 105894),\n",
       " (34345, 56396),\n",
       " (74995, 90755),\n",
       " (3430, 111442),\n",
       " (74206, 111541),\n",
       " (55713, 64338),\n",
       " (86373, 135171),\n",
       " (8816, 22242),\n",
       " (69445, 69796),\n",
       " (84756, 131418),\n",
       " (21404, 60317),\n",
       " (14906, 36283),\n",
       " (28875, 137338),\n",
       " (31505, 36477),\n",
       " (8816, 113950),\n",
       " (36654, 60645),\n",
       " (62201, 109320),\n",
       " (23041, 25693),\n",
       " (84465, 104403),\n",
       " (13247, 63434),\n",
       " (83253, 109650),\n",
       " (1660, 60540),\n",
       " (99419, 103115),\n",
       " (72620, 116123),\n",
       " (25699, 53120),\n",
       " (36583, 89368),\n",
       " (25837, 43365),\n",
       " (41586, 46045),\n",
       " (12764, 84866),\n",
       " (13920, 129972),\n",
       " (37410, 75058),\n",
       " (16826, 72919),\n",
       " (24946, 134039),\n",
       " (10214, 128354),\n",
       " (15997, 119254),\n",
       " (53035, 63740),\n",
       " (73624, 101349),\n",
       " (7831, 80688),\n",
       " (110151, 127719),\n",
       " (46228, 58288),\n",
       " (84170, 98704),\n",
       " (12896, 119508),\n",
       " (3430, 58105),\n",
       " (1004, 93323),\n",
       " (38150, 138252),\n",
       " (13247, 38863),\n",
       " (72147, 101441),\n",
       " (106181, 115315),\n",
       " (73889, 112106),\n",
       " (21993, 116123),\n",
       " (17103, 71511),\n",
       " (22352, 96814),\n",
       " (129303, 135012),\n",
       " (123827, 133120),\n",
       " (659, 116235),\n",
       " (35825, 91463),\n",
       " (21993, 72620),\n",
       " (54985, 66066),\n",
       " (44482, 88950),\n",
       " (35659, 40127),\n",
       " (45689, 108314),\n",
       " (131187, 133538),\n",
       " (39065, 61103),\n",
       " (50358, 56838),\n",
       " (107370, 133858),\n",
       " (7081, 119361)]"
      ]
     },
     "execution_count": 178,
     "metadata": {},
     "output_type": "execute_result"
    }
   ],
   "source": [
    "l1"
   ]
  },
  {
   "cell_type": "code",
   "execution_count": 175,
   "metadata": {
    "collapsed": true
   },
   "outputs": [],
   "source": [
    "l2=[]\n",
    "for x in s2:\n",
    "    elem1 = transform(x[0])\n",
    "    elem2 = transform(x[1])\n",
    "    l2.append((elem1,elem2))"
   ]
  },
  {
   "cell_type": "code",
   "execution_count": 176,
   "metadata": {},
   "outputs": [
    {
     "data": {
      "text/plain": [
       "[(63945, 106943),\n",
       " (84205, 117219),\n",
       " (75747, 135820),\n",
       " (65397, 127813),\n",
       " (67477, 131312),\n",
       " (103875, 106286),\n",
       " (10266, 83310),\n",
       " (36851, 95626),\n",
       " (25288, 121024),\n",
       " (53192, 73615),\n",
       " (77492, 87261),\n",
       " (33004, 100818),\n",
       " (47896, 49987),\n",
       " (8072, 21610),\n",
       " (128936, 130573),\n",
       " (39683, 130939),\n",
       " (24946, 71467),\n",
       " (37410, 81637),\n",
       " (16826, 108023),\n",
       " (27184, 74900),\n",
       " (5469, 117467),\n",
       " (12047, 66932),\n",
       " (52590, 108314),\n",
       " (443, 28000),\n",
       " (36152, 48785),\n",
       " (115255, 124324),\n",
       " (101159, 103265),\n",
       " (72674, 114130),\n",
       " (27764, 135581),\n",
       " (7831, 129321),\n",
       " (19346, 93135),\n",
       " (80462, 93453),\n",
       " (62993, 66424),\n",
       " (32721, 90320),\n",
       " (45867, 96524),\n",
       " (46656, 89392),\n",
       " (99621, 105326),\n",
       " (4531, 42171),\n",
       " (34750, 68742),\n",
       " (36905, 89388),\n",
       " (10243, 32605),\n",
       " (74528, 117528),\n",
       " (36851, 59677),\n",
       " (38390, 85659),\n",
       " (7227, 20659),\n",
       " (43221, 89388),\n",
       " (38863, 59672),\n",
       " (70296, 107528),\n",
       " (46575, 105437),\n",
       " (13966, 118861),\n",
       " (104445, 113197),\n",
       " (35242, 78114),\n",
       " (17250, 100441),\n",
       " (12685, 45221),\n",
       " (45009, 83451),\n",
       " (97332, 105249),\n",
       " (50389, 113078),\n",
       " (25, 86416),\n",
       " (12541, 72067),\n",
       " (12377, 55444),\n",
       " (2922, 110191),\n",
       " (82904, 125554),\n",
       " (45871, 96246),\n",
       " (35367, 41022),\n",
       " (56554, 79553),\n",
       " (53891, 119508),\n",
       " (118610, 131751),\n",
       " (31505, 90755),\n",
       " (10214, 34292),\n",
       " (78204, 102722),\n",
       " (16855, 96705),\n",
       " (112738, 115873),\n",
       " (106181, 115811),\n",
       " (1004, 29250),\n",
       " (6252, 8185),\n",
       " (87229, 135115),\n",
       " (91928, 92277),\n",
       " (54601, 135171),\n",
       " (20913, 45265),\n",
       " (37971, 68885),\n",
       " (47793, 82636),\n",
       " (1065, 80002),\n",
       " (69502, 73889),\n",
       " (10395, 37995),\n",
       " (37410, 137902),\n",
       " (1997, 128622),\n",
       " (65920, 134899),\n",
       " (59838, 97987),\n",
       " (23725, 79050),\n",
       " (37778, 80488),\n",
       " (33667, 113022),\n",
       " (12945, 107317),\n",
       " (56176, 58826),\n",
       " (51508, 125894),\n",
       " (70486, 129540),\n",
       " (9919, 53212),\n",
       " (81637, 137902),\n",
       " (38457, 67471),\n",
       " (35994, 51732),\n",
       " (10887, 138401),\n",
       " (11975, 136605),\n",
       " (68885, 120926),\n",
       " (84054, 120014),\n",
       " (72147, 127147),\n",
       " (19897, 103918),\n",
       " (10395, 73544),\n",
       " (89605, 101608),\n",
       " (7789, 116991),\n",
       " (72620, 113396),\n",
       " (15051, 91467),\n",
       " (42486, 82343),\n",
       " (2453, 32893),\n",
       " (8241, 132333),\n",
       " (52512, 113447),\n",
       " (30167, 92996),\n",
       " (95830, 134098),\n",
       " (69838, 101479),\n",
       " (50494, 99562),\n",
       " (19096, 120257),\n",
       " (81591, 101055),\n",
       " (36813, 41872),\n",
       " (31463, 122604),\n",
       " (43221, 75948),\n",
       " (72030, 97332),\n",
       " (58288, 96712),\n",
       " (37995, 73544),\n",
       " (123235, 125824),\n",
       " (10583, 18732),\n",
       " (52657, 60540),\n",
       " (9137, 16826)]"
      ]
     },
     "execution_count": 176,
     "metadata": {},
     "output_type": "execute_result"
    }
   ],
   "source": [
    "l2"
   ]
  },
  {
   "cell_type": "markdown",
   "metadata": {},
   "source": [
    "## l1 and l2 are pairs with similarity >0.65"
   ]
  },
  {
   "cell_type": "markdown",
   "metadata": {},
   "source": [
    "## Since l1 is of size 143, l2 is of size 130, we estimate the total pair size to be 18,000."
   ]
  },
  {
   "cell_type": "markdown",
   "metadata": {},
   "source": [
    "# Q5"
   ]
  },
  {
   "cell_type": "markdown",
   "metadata": {},
   "source": [
    "## dic is dictionary of each band in band_matrix."
   ]
  },
  {
   "cell_type": "code",
   "execution_count": null,
   "metadata": {
    "collapsed": true
   },
   "outputs": [],
   "source": [
    "def findNeighbor(elem, dic):\n",
    "    values = dic.values()\n",
    "    if elem not in [x for v in values for x in v if type(v)==list]:\n",
    "        return None\n",
    "    a = []\n",
    "    for key,value in dic.items():\n",
    "        if elem in value:\n",
    "            a = value\n",
    "            break\n",
    "    a.remove(elem)\n",
    "    res = []\n",
    "    for i in a:\n",
    "        similarity = sim(array(elem),array(a[i]))\n",
    "        res.append(similarity)\n",
    "    res.sort(reverse=True)\n",
    "    return res[0]\n",
    "\n"
   ]
  }
 ],
 "metadata": {
  "kernelspec": {
   "display_name": "Python 3",
   "language": "python",
   "name": "python3"
  },
  "language_info": {
   "codemirror_mode": {
    "name": "ipython",
    "version": 3
   },
   "file_extension": ".py",
   "mimetype": "text/x-python",
   "name": "python",
   "nbconvert_exporter": "python",
   "pygments_lexer": "ipython3",
   "version": "3.6.1"
  }
 },
 "nbformat": 4,
 "nbformat_minor": 2
}
